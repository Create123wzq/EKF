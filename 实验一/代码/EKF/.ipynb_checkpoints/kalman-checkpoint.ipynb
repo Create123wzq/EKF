{
 "cells": [
  {
   "cell_type": "code",
   "execution_count": 86,
   "metadata": {
    "collapsed": true
   },
   "outputs": [],
   "source": [
    "import numpy as np\n",
    "from filterpy.common import Saver\n",
    "import matplotlib.pyplot as plt\n",
    "from numpy.random import randn\n",
    "from filterpy.kalman import UnscentedKalmanFilter\n",
    "from filterpy.common import Q_discrete_white_noise\n",
    "from filterpy.kalman import JulierSigmaPoints"
   ]
  },
  {
   "cell_type": "code",
   "execution_count": 108,
   "metadata": {},
   "outputs": [],
   "source": [
    "dt = 0.033  # 卡尔曼滤波计算时间间隔,单位为s\n",
    "F = 36 # 焦距 mm\n",
    "CCD_SIZE = 11.264 # 传感器尺寸 mm\n",
    "WIDTH = 2048\n",
    "HEIGHT = 2048\n",
    "M = 4 # 卡尔曼滤波器跟踪的点的个数\n",
    "\n",
    "def fromImageToPixel(x, y):\n",
    "    dx = CCD_SIZE / WIDTH\n",
    "    dy = CCD_SIZE / HEIGHT\n",
    "    u = x/dx + WIDTH/2\n",
    "    v = y/dy + HEIGHT/2\n",
    "    return u, v\n",
    "\n",
    "def fromCameraToImage(x, y, z):\n",
    "    x_new = (F * x) / z\n",
    "    y_new = (F * y) / z\n",
    "    return x_new, y_new\n",
    "\n",
    "def fx(x, dt):\n",
    "    st = np.zeros(3 * M + 12, dtype=float)\n",
    "    s1 = x[0]\n",
    "    s2 = x[1]\n",
    "    s3 = x[2]\n",
    "    s4 = x[3]\n",
    "    s5 = x[4]\n",
    "    s6 = x[5]\n",
    "    s7 = x[6]\n",
    "    s8 = x[7]\n",
    "    s9 = x[8]\n",
    "    s10 = x[9]\n",
    "    s11 = x[10]\n",
    "    s12 = x[11]\n",
    "    st[0] = s3 - s1 * s5\n",
    "    st[1] = s4 - s2 * s5\n",
    "    st[2] = -s3 * s5\n",
    "    st[3] = -s4 * s5\n",
    "    st[4] = -s5 ** 2\n",
    "    st[5] = 0.5 * (s12 * s7 - s11 * s8 + s10 * s9)\n",
    "    st[6] = 0.5 * (-s12 * s6 + s10 * s8 + s11 * s9)\n",
    "    st[7] = 0.5 * (s11 * s6 - s10 * s7 + s12 * s9)\n",
    "    st[8] = 0.5 * (-s10 * s6 - s11 * s7 - s12 * s8)\n",
    "    st[9] = 0\n",
    "    st[10] = 0\n",
    "    st[11] = 0\n",
    "    for i in range(0, 3 * M):\n",
    "        st[i + 12] = -x[i + 12] * s5\n",
    "\n",
    "    return dt * st + x\n",
    "\n",
    "def hx(x):\n",
    "    # 观测函数\n",
    "    s1 = x[0]\n",
    "    s2 = x[1]\n",
    "    s6 = x[5]\n",
    "    s7 = x[6]\n",
    "    s8 = x[7]\n",
    "    s9 = x[8]\n",
    "    ob = np.zeros(2 * M, dtype=float)\n",
    "    for i in range(0, M):\n",
    "        n1 = s1 + np.dot(\n",
    "            np.array([[s6 ** 2 - s7 ** 2 - s8 ** 2 + s9 ** 2, 2 * (s6 * s7 + s8 * s9), 2 * (s6 * s8 - s7 * s9)]]),\n",
    "            np.array([[x[i * 3 + 12]], [x[i * 3 + 13]], [x[i * 3 + 14]]]))[0][0]\n",
    "\n",
    "        n2 = s2 + np.dot(\n",
    "            np.array([[2 * (s6 * s7 - s8 * s9), -s6 ** 2 + s7 ** 2 - s8 ** 2 + s9 ** 2, 2 * (s7 * s8 + s6 * s9)]]),\n",
    "            np.array([[x[i * 3 + 12]], [x[i * 3 + 13]], [x[i * 3 + 14]]]))[0][0]\n",
    "\n",
    "        d = 1 + np.dot(\n",
    "            np.array([[2 * (s6 * s8 + s7 * s9), 2 * (s7 * s8 - s6 * s9), -s6 ** 2 - s7 ** 2 + s8 ** 2 + s9 ** 2]]),\n",
    "            np.array([[x[i * 3 + 12]], [x[i * 3 + 13]], [x[i * 3 + 14]]]))[0][0]\n",
    "        ob[i * 2] = n1 / d\n",
    "        ob[i * 2 + 1] = n2 / d\n",
    "\n",
    "    return F*ob"
   ]
  },
  {
   "cell_type": "code",
   "execution_count": 111,
   "metadata": {},
   "outputs": [
    {
     "ename": "ValueError",
     "evalue": "math domain error",
     "output_type": "error",
     "traceback": [
      "\u001b[0;31m---------------------------------------------------------------------------\u001b[0m",
      "\u001b[0;31mValueError\u001b[0m                                Traceback (most recent call last)",
      "\u001b[0;32m<ipython-input-111-a0e83770421d>\u001b[0m in \u001b[0;36m<module>\u001b[0;34m()\u001b[0m\n\u001b[1;32m     55\u001b[0m     \u001b[0mukf\u001b[0m\u001b[0;34m.\u001b[0m\u001b[0mpredict\u001b[0m\u001b[0;34m(\u001b[0m\u001b[0;34m)\u001b[0m\u001b[0;34m\u001b[0m\u001b[0m\n\u001b[1;32m     56\u001b[0m     \u001b[0mukf\u001b[0m\u001b[0;34m.\u001b[0m\u001b[0mupdate\u001b[0m\u001b[0;34m(\u001b[0m\u001b[0mz\u001b[0m\u001b[0;34m)\u001b[0m\u001b[0;34m\u001b[0m\u001b[0m\n\u001b[0;32m---> 57\u001b[0;31m     \u001b[0ms\u001b[0m\u001b[0;34m.\u001b[0m\u001b[0msave\u001b[0m\u001b[0;34m(\u001b[0m\u001b[0;34m)\u001b[0m\u001b[0;34m\u001b[0m\u001b[0m\n\u001b[0m",
      "\u001b[0;32m~/anaconda3/lib/python3.6/site-packages/filterpy/common/helpers.py\u001b[0m in \u001b[0;36msave\u001b[0;34m(self)\u001b[0m\n\u001b[1;32m    127\u001b[0m         \u001b[0;31m# accessed\u001b[0m\u001b[0;34m\u001b[0m\u001b[0;34m\u001b[0m\u001b[0m\n\u001b[1;32m    128\u001b[0m         \u001b[0;32mfor\u001b[0m \u001b[0mprop\u001b[0m \u001b[0;32min\u001b[0m \u001b[0mself\u001b[0m\u001b[0;34m.\u001b[0m\u001b[0mproperties\u001b[0m\u001b[0;34m:\u001b[0m\u001b[0;34m\u001b[0m\u001b[0m\n\u001b[0;32m--> 129\u001b[0;31m             \u001b[0mself\u001b[0m\u001b[0;34m.\u001b[0m\u001b[0m_DL\u001b[0m\u001b[0;34m[\u001b[0m\u001b[0mprop\u001b[0m\u001b[0;34m[\u001b[0m\u001b[0;36m0\u001b[0m\u001b[0;34m]\u001b[0m\u001b[0;34m]\u001b[0m\u001b[0;34m.\u001b[0m\u001b[0mappend\u001b[0m\u001b[0;34m(\u001b[0m\u001b[0mgetattr\u001b[0m\u001b[0;34m(\u001b[0m\u001b[0mkf\u001b[0m\u001b[0;34m,\u001b[0m \u001b[0mprop\u001b[0m\u001b[0;34m[\u001b[0m\u001b[0;36m0\u001b[0m\u001b[0;34m]\u001b[0m\u001b[0;34m)\u001b[0m\u001b[0;34m)\u001b[0m\u001b[0;34m\u001b[0m\u001b[0m\n\u001b[0m\u001b[1;32m    130\u001b[0m \u001b[0;34m\u001b[0m\u001b[0m\n\u001b[1;32m    131\u001b[0m         \u001b[0mv\u001b[0m \u001b[0;34m=\u001b[0m \u001b[0mcopy\u001b[0m\u001b[0;34m.\u001b[0m\u001b[0mdeepcopy\u001b[0m\u001b[0;34m(\u001b[0m\u001b[0mkf\u001b[0m\u001b[0;34m.\u001b[0m\u001b[0m__dict__\u001b[0m\u001b[0;34m)\u001b[0m\u001b[0;34m\u001b[0m\u001b[0m\n",
      "\u001b[0;32m~/anaconda3/lib/python3.6/site-packages/filterpy/kalman/UKF.py\u001b[0m in \u001b[0;36mmahalanobis\u001b[0;34m(self)\u001b[0m\n\u001b[1;32m    754\u001b[0m         \"\"\"\n\u001b[1;32m    755\u001b[0m         \u001b[0;32mif\u001b[0m \u001b[0mself\u001b[0m\u001b[0;34m.\u001b[0m\u001b[0m_mahalanobis\u001b[0m \u001b[0;32mis\u001b[0m \u001b[0;32mNone\u001b[0m\u001b[0;34m:\u001b[0m\u001b[0;34m\u001b[0m\u001b[0m\n\u001b[0;32m--> 756\u001b[0;31m             \u001b[0mself\u001b[0m\u001b[0;34m.\u001b[0m\u001b[0m_mahalanobis\u001b[0m \u001b[0;34m=\u001b[0m \u001b[0msqrt\u001b[0m\u001b[0;34m(\u001b[0m\u001b[0mfloat\u001b[0m\u001b[0;34m(\u001b[0m\u001b[0mdot\u001b[0m\u001b[0;34m(\u001b[0m\u001b[0mdot\u001b[0m\u001b[0;34m(\u001b[0m\u001b[0mself\u001b[0m\u001b[0;34m.\u001b[0m\u001b[0my\u001b[0m\u001b[0;34m.\u001b[0m\u001b[0mT\u001b[0m\u001b[0;34m,\u001b[0m \u001b[0mself\u001b[0m\u001b[0;34m.\u001b[0m\u001b[0mSI\u001b[0m\u001b[0;34m)\u001b[0m\u001b[0;34m,\u001b[0m \u001b[0mself\u001b[0m\u001b[0;34m.\u001b[0m\u001b[0my\u001b[0m\u001b[0;34m)\u001b[0m\u001b[0;34m)\u001b[0m\u001b[0;34m)\u001b[0m\u001b[0;34m\u001b[0m\u001b[0m\n\u001b[0m\u001b[1;32m    757\u001b[0m         \u001b[0;32mreturn\u001b[0m \u001b[0mself\u001b[0m\u001b[0;34m.\u001b[0m\u001b[0m_mahalanobis\u001b[0m\u001b[0;34m\u001b[0m\u001b[0m\n\u001b[1;32m    758\u001b[0m \u001b[0;34m\u001b[0m\u001b[0m\n",
      "\u001b[0;31mValueError\u001b[0m: math domain error"
     ]
    }
   ],
   "source": [
    "sigmas = JulierSigmaPoints(n=3*M+12, kappa=1)\n",
    "indexs = [1, 7, 5, 3]\n",
    "measured_points = []\n",
    "for i in range(30):\n",
    "    fileName = \"pos/pos\" + str(i) + \".txt\"\n",
    "    with open(fileName, \"r\") as file:\n",
    "        temp = []\n",
    "        lines = file.readlines()\n",
    "        for index in indexs:\n",
    "            line = lines[index].strip(\"\\n\").split()\n",
    "            # 相机坐标系转换到图像坐标系(y值要取反！！！！！！！！！！)\n",
    "            x, y = fromCameraToImage(float(line[0]), -float(line[1]), float(line[2]))\n",
    "            temp.append(x)\n",
    "            temp.append(y)\n",
    "\n",
    "        measured_points.append(temp)\n",
    "\n",
    "ukf = UnscentedKalmanFilter(dim_x=3*M+12, dim_z=2*M, dt=dt, hx=hx, fx=fx, points=sigmas)\n",
    "ukf.P *= 10\n",
    "ukf.R *= .5\n",
    "ukf.Q *= 0.1\n",
    "\n",
    "s0 = [100., 0., 6930.693]\n",
    "# 初值:小行星坐标系到相机坐标系坐标系旋转矩阵(四元数)(y值要取反！！！！！！！！！！)\n",
    "q0 = [0.924, -0.383, 0.000, 0.000]\n",
    "# M个特征点在小行星坐标系下的坐标（不随时间变化,y值要取反！！！！！！！！！！)\n",
    "points0 = [[0., -200., 0.], [0., -200., 200.], [200., -200., 200.], [200., -200., 0.]]\n",
    "points0 = [[-100., -100., -100.], [-100., -100., 100.], [100., -100., 100.], [100., -100., -100.]]\n",
    "# 初值：小行星坐标系x,y,z方向的角速度初值\n",
    "w0 = [0.1, 5., 0.1]\n",
    "# 初值：小行星坐标原点在相机坐标系下x,y,z方向速度初值\n",
    "v0 = [0.1, 0.1, 0.1]\n",
    "\n",
    "# ukf.x[0] = s0[0]/s0[2]\n",
    "# ukf.x[1] = s0[1]/s0[2]\n",
    "# ukf.x[2] = v0[0]/s0[2]\n",
    "# ukf.x[3] = v0[1]/s0[2]\n",
    "# ukf.x[4] = v0[2]/s0[2]\n",
    "# ukf.x[5] = q0[0]\n",
    "# ukf.x[6] = q0[1]\n",
    "# ukf.x[7] = q0[2]\n",
    "# ukf.x[8] = q0[3]\n",
    "# ukf.x[9] = w0[0]\n",
    "# ukf.x[10] = w0[1]\n",
    "# ukf.x[11] = w0[2]\n",
    "# for i in range(0, M):\n",
    "#     ukf.x[3*i+12] = points0[i][0]/s0[2]\n",
    "#     ukf.x[3*i+13] = points0[i][1]/s0[2]\n",
    "#     ukf.x[3*i+14] = points0[i][2]/s0[2]\n",
    "\n",
    "\n",
    "s = Saver(ukf)\n",
    "for i in range(30):\n",
    "    z = measured_points[i]\n",
    "    ukf.predict()\n",
    "    ukf.update(z)\n",
    "    s.save()"
   ]
  },
  {
   "cell_type": "code",
   "execution_count": null,
   "metadata": {},
   "outputs": [],
   "source": [
    "s.x"
   ]
  },
  {
   "cell_type": "code",
   "execution_count": 116,
   "metadata": {},
   "outputs": [],
   "source": [
    "x= np.zeros((3*M+12))\n",
    "x[0] = s0[0]/s0[2]\n",
    "x[1] = s0[1]/s0[2]\n",
    "x[2] = v0[0]/s0[2]\n",
    "x[3] = v0[1]/s0[2]\n",
    "x[4] = v0[2]/s0[2]\n",
    "x[5] = q0[0]\n",
    "x[6] = q0[1]\n",
    "x[7] = q0[2]\n",
    "x[8] = q0[3]\n",
    "x[9] = w0[0]\n",
    "x[10] = w0[1]\n",
    "x[11] = w0[2]\n",
    "for i in range(0, M):\n",
    "    x[3*i+12] = points0[i][0]/s0[2]\n",
    "    x[3*i+13] = points0[i][1]/s0[2]\n",
    "    x[3*i+14] = points0[i][2]/s0[2]"
   ]
  },
  {
   "cell_type": "code",
   "execution_count": 117,
   "metadata": {},
   "outputs": [
    {
     "data": {
      "text/plain": [
       "array([ 1.44285716e-02,  0.00000000e+00,  1.44285716e-05,  1.44285716e-05,\n",
       "        1.44285716e-05,  9.24000000e-01, -3.83000000e-01,  0.00000000e+00,\n",
       "        0.00000000e+00,  1.00000000e-01,  5.00000000e+00,  1.00000000e-01,\n",
       "       -1.44285716e-02, -1.44285716e-02, -1.44285716e-02, -1.44285716e-02,\n",
       "       -1.44285716e-02,  1.44285716e-02,  1.44285716e-02, -1.44285716e-02,\n",
       "        1.44285716e-02,  1.44285716e-02, -1.44285716e-02, -1.44285716e-02])"
      ]
     },
     "execution_count": 117,
     "metadata": {},
     "output_type": "execute_result"
    }
   ],
   "source": [
    "x"
   ]
  },
  {
   "cell_type": "code",
   "execution_count": 120,
   "metadata": {},
   "outputs": [
    {
     "data": {
      "text/plain": [
       "array([ 1.44290408e-02,  4.76142862e-07,  1.44285647e-05,  1.44285647e-05,\n",
       "        1.44285647e-05,  9.23368050e-01, -3.84524600e-01,  7.68619500e-02,\n",
       "        3.00729000e-02,  1.00000000e-01,  5.00000000e+00,  1.00000000e-01,\n",
       "       -1.44285647e-02, -1.44285647e-02, -1.44285647e-02, -1.44285647e-02,\n",
       "       -1.44285647e-02,  1.44285647e-02,  1.44285647e-02, -1.44285647e-02,\n",
       "        1.44285647e-02,  1.44285647e-02, -1.44285647e-02, -1.44285647e-02])"
      ]
     },
     "execution_count": 120,
     "metadata": {},
     "output_type": "execute_result"
    }
   ],
   "source": [
    "fx(x, dt)"
   ]
  },
  {
   "cell_type": "code",
   "execution_count": 122,
   "metadata": {},
   "outputs": [
    {
     "data": {
      "text/plain": [
       "array([ 5.12394066e-01,  7.24466551e-01,  5.27403841e-01,  7.45688655e-01,\n",
       "        1.27272515e+00, -3.67344438e-04,  1.23650373e+00, -3.56889912e-04])"
      ]
     },
     "execution_count": 122,
     "metadata": {},
     "output_type": "execute_result"
    }
   ],
   "source": [
    "hx(x)"
   ]
  },
  {
   "cell_type": "code",
   "execution_count": 124,
   "metadata": {
    "collapsed": true
   },
   "outputs": [],
   "source": [
    "xtest = np.array([-1.006387934183200938e+00,\n",
    "1.656554571228871786e-01,\n",
    "3.910244125894343087e-02,\n",
    "1.472230340941746082e-02,\n",
    "-1.611665700522539964e+03,\n",
    "2.801731342037767003e+37,\n",
    "3.285487390537626209e+36,\n",
    "-3.047719425664687393e+38,\n",
    "-1.190547535074680865e+38,\n",
    "9.302641302469509821e-01,\n",
    "6.910800686401384496e+01,\n",
    "3.484094784640627829e-01,\n",
    "9.027261841330447290e-01,\n",
    "-8.207360484526352584e-01,\n",
    "-7.068045764971286893e-01,\n",
    "-8.305676487928113829e+02,\n",
    "7.302167793067154662e+02,\n",
    "5.932617349205960409e+02,\n",
    "1.774016003659557100e+03,\n",
    "-1.471948630532192738e+03,\n",
    "-1.516851358616378775e+03,\n",
    "5.018789943630016202e-03,\n",
    "-4.286681846003326940e-03,\n",
    "-4.484595287549666444e-03])"
   ]
  }
 ],
 "metadata": {
  "kernelspec": {
   "display_name": "Python 3",
   "language": "python",
   "name": "python3"
  },
  "language_info": {
   "codemirror_mode": {
    "name": "ipython",
    "version": 3
   },
   "file_extension": ".py",
   "mimetype": "text/x-python",
   "name": "python",
   "nbconvert_exporter": "python",
   "pygments_lexer": "ipython3",
   "version": "3.6.3"
  }
 },
 "nbformat": 4,
 "nbformat_minor": 2
}
